{
  "nbformat": 4,
  "nbformat_minor": 0,
  "metadata": {
    "colab": {
      "provenance": []
    },
    "kernelspec": {
      "name": "python3",
      "display_name": "Python 3"
    },
    "language_info": {
      "name": "python"
    }
  },
  "cells": [
    {
      "cell_type": "markdown",
      "source": [
        "acquire images\n"
      ],
      "metadata": {
        "id": "TBxgWlVcVr12"
      }
    },
    {
      "cell_type": "markdown",
      "source": [],
      "metadata": {
        "id": "sBBjvhOnVoUk"
      }
    },
    {
      "cell_type": "code",
      "execution_count": null,
      "metadata": {
        "id": "E7P2xxc0T3uN"
      },
      "outputs": [],
      "source": [
        "from bing_image_downloader import downloader"
      ]
    },
    {
      "cell_type": "code",
      "source": [
        "downloader.download(\"dwayne johnson\",limit = 100, output_dir = \"/content/donnie\", adult_filter_off=True, filter = \"photo\")"
      ],
      "metadata": {
        "id": "TnUpyPuQaEgn"
      },
      "execution_count": null,
      "outputs": []
    },
    {
      "cell_type": "code",
      "source": [
        "downloader.download(\"ariana grande face\",limit = 100, output_dir = \"/content/ariana\", adult_filter_off=True, filter = \"photo\")"
      ],
      "metadata": {
        "id": "KAgJXSZlfy4d"
      },
      "execution_count": null,
      "outputs": []
    },
    {
      "cell_type": "code",
      "source": [
        "downloader.download(\"cristiano ronaldo face\",limit = 100, output_dir = \"/content/ronaldo\", adult_filter_off=True, filter = \"photo\")"
      ],
      "metadata": {
        "id": "n8lDF5ptgm_9"
      },
      "execution_count": null,
      "outputs": []
    },
    {
      "cell_type": "markdown",
      "source": [
        "import libraries"
      ],
      "metadata": {
        "id": "ovqAok3bVuw_"
      }
    },
    {
      "cell_type": "code",
      "source": [
        "import os\n",
        "import warnings\n",
        "warnings.simplefilter('ignore')\n",
        "import numpy as np\n",
        "import pandas as pd\n",
        "import matplotlib.pyplot as plt\n",
        "%matplotlib inline\n",
        "from skimage.io import imread, imshow\n",
        "from skimage.transform import resize\n",
        "from skimage.color import rgb2gray"
      ],
      "metadata": {
        "id": "A0NVsPgJUm-D"
      },
      "execution_count": 8,
      "outputs": []
    },
    {
      "cell_type": "markdown",
      "source": [
        "store the names of images in a list"
      ],
      "metadata": {
        "id": "iBjMSRrJVwJ0"
      }
    },
    {
      "cell_type": "code",
      "source": [
        "donnie = os.listdir(\"/content/rock\")"
      ],
      "metadata": {
        "id": "zGBvcwziXdNC"
      },
      "execution_count": 9,
      "outputs": []
    },
    {
      "cell_type": "code",
      "source": [
        "ariana = os.listdir(\"/content/ariana\")"
      ],
      "metadata": {
        "id": "5HFv5o9SpfKn"
      },
      "execution_count": 10,
      "outputs": []
    },
    {
      "cell_type": "code",
      "source": [
        "ronaldo = os.listdir(\"/content/ronaldo\")"
      ],
      "metadata": {
        "id": "S85tdjmOvd3c"
      },
      "execution_count": 11,
      "outputs": []
    },
    {
      "cell_type": "markdown",
      "source": [
        "Read images"
      ],
      "metadata": {
        "id": "BCcY3x6XVz98"
      }
    },
    {
      "cell_type": "code",
      "source": [
        "limit = len(ronaldo)\n",
        "ronaldo_images = [None] * limit\n",
        "j = 0\n",
        "for i in ronaldo:\n",
        "    if (j<limit):\n",
        "        ronaldo_images[j] = imread(\"/content/ronaldo/\"+i)\n",
        "        j+=1\n",
        "    else:\n",
        "        break"
      ],
      "metadata": {
        "id": "W-IsR1RuvkHM"
      },
      "execution_count": 12,
      "outputs": []
    },
    {
      "cell_type": "code",
      "source": [
        "limit = len(ariana)\n",
        "ariana_images = [None] * limit\n",
        "j = 0\n",
        "for i in ariana:\n",
        "    if (j<limit):\n",
        "        ariana_images[j] = imread(\"/content/ariana/\"+i)\n",
        "        j+=1\n",
        "    else:\n",
        "        break"
      ],
      "metadata": {
        "id": "Is5JLdcMpjl_"
      },
      "execution_count": null,
      "outputs": []
    },
    {
      "cell_type": "code",
      "source": [
        "limit = len(donnie)\n",
        "donnie_images = [None] * limit\n",
        "j = 0\n",
        "for i in donnie:\n",
        "    if (j<limit):\n",
        "        donnie_images[j] = imread(\"/content/rock/\"+i)\n",
        "        j+=1\n",
        "    else:\n",
        "        break"
      ],
      "metadata": {
        "id": "tD5OYmyKYM8B"
      },
      "execution_count": 14,
      "outputs": []
    },
    {
      "cell_type": "code",
      "source": [
        "imshow(ronaldo_images[44])"
      ],
      "metadata": {
        "id": "5oMV7V-gYn8Q"
      },
      "execution_count": null,
      "outputs": []
    },
    {
      "cell_type": "markdown",
      "source": [
        "Convert to grayscale"
      ],
      "metadata": {
        "id": "ipezsV3UV2FF"
      }
    },
    {
      "cell_type": "code",
      "source": [
        "limit_d = len(donnie)\n",
        "donnie_gray = [None] * limit_d\n",
        "j = 0\n",
        "for i in donnie:\n",
        "    if (j<limit_d):\n",
        "        donnie_gray[j] = rgb2gray(donnie_images[j])\n",
        "        j+=1\n",
        "    else:\n",
        "        break"
      ],
      "metadata": {
        "id": "EqiBTh1HYs7A"
      },
      "execution_count": 15,
      "outputs": []
    },
    {
      "cell_type": "code",
      "source": [
        "limit_r = len(ronaldo)\n",
        "ronaldo_gray = [None] * limit_r\n",
        "j = 0\n",
        "for i in ronaldo:\n",
        "    if (j<limit_r):\n",
        "        ronaldo_gray[j] = rgb2gray(ronaldo_images[j])\n",
        "        j+=1\n",
        "    else:\n",
        "        break"
      ],
      "metadata": {
        "id": "FH2C00jJx6jL"
      },
      "execution_count": 16,
      "outputs": []
    },
    {
      "cell_type": "code",
      "source": [
        "limit_a = len(ariana)\n",
        "ariana_gray = [None] * limit_a\n",
        "j = 0\n",
        "for i in ariana:\n",
        "    if (j<limit_a):\n",
        "        ariana_gray[j] = rgb2gray(ariana_images[j])\n",
        "        j+=1\n",
        "    else:\n",
        "        break"
      ],
      "metadata": {
        "id": "f97Jc1OgwFtG"
      },
      "execution_count": null,
      "outputs": []
    },
    {
      "cell_type": "code",
      "source": [
        "imshow(donnie_gray[1])"
      ],
      "metadata": {
        "id": "tTKSmrqMY6Op"
      },
      "execution_count": null,
      "outputs": []
    },
    {
      "cell_type": "markdown",
      "source": [
        "resize all images to fixed size"
      ],
      "metadata": {
        "id": "OS3jPuLmV4gE"
      }
    },
    {
      "cell_type": "code",
      "source": [
        "    donnie =  donnie_gray[j]\n",
        "    donnie_gray[j]=resize(donnie, (512,512))"
      ],
      "metadata": {
        "id": "baCgeQAHY8A5"
      },
      "execution_count": 17,
      "outputs": []
    },
    {
      "cell_type": "code",
      "source": [
        "for j in range(limit_r):\n",
        "    ronaldo =  ronaldo_gray[j]\n",
        "    ronaldo_gray[j]=resize(ronaldo, (512,512))"
      ],
      "metadata": {
        "id": "BEqA0-OAyFjk"
      },
      "execution_count": 18,
      "outputs": []
    },
    {
      "cell_type": "code",
      "source": [
        "for j in range(limit_a):\n",
        "    ariana =  ariana_gray[j]\n",
        "    ariana_gray[j]=resize(ariana, (512,512))"
      ],
      "metadata": {
        "id": "YHtWpOtMwPXk"
      },
      "execution_count": null,
      "outputs": []
    },
    {
      "cell_type": "code",
      "source": [
        "img_length_r = len(ronaldo_gray)\n",
        "img_length_r"
      ],
      "metadata": {
        "colab": {
          "base_uri": "https://localhost:8080/"
        },
        "id": "h4yPL8GyY-Qp",
        "outputId": "f4648e9d-14d3-4dac-cdf4-43090a19a1a3"
      },
      "execution_count": 19,
      "outputs": [
        {
          "output_type": "execute_result",
          "data": {
            "text/plain": [
              "80"
            ]
          },
          "metadata": {},
          "execution_count": 19
        }
      ]
    },
    {
      "cell_type": "code",
      "source": [
        "img_length_a = len(ariana_gray)\n",
        "img_length_a"
      ],
      "metadata": {
        "id": "qRDuarYCT4Gu"
      },
      "execution_count": null,
      "outputs": []
    },
    {
      "cell_type": "code",
      "source": [
        "\n",
        "img_length_d = len(donnie_gray)\n",
        "img_length_d"
      ],
      "metadata": {
        "colab": {
          "base_uri": "https://localhost:8080/"
        },
        "id": "kaG5mSWm0QlR",
        "outputId": "e483f681-868e-4d7f-c542-4c4a137858d2"
      },
      "execution_count": 21,
      "outputs": [
        {
          "output_type": "execute_result",
          "data": {
            "text/plain": [
              "79"
            ]
          },
          "metadata": {},
          "execution_count": 21
        }
      ]
    },
    {
      "cell_type": "code",
      "source": [
        "img_size = ronaldo_gray[5].shape\n",
        "img_size"
      ],
      "metadata": {
        "colab": {
          "base_uri": "https://localhost:8080/"
        },
        "id": "YaBjRW1KZIbR",
        "outputId": "92ec127a-5ba6-44bb-df57-64736ac9f0a3"
      },
      "execution_count": 22,
      "outputs": [
        {
          "output_type": "execute_result",
          "data": {
            "text/plain": [
              "(512, 512)"
            ]
          },
          "metadata": {},
          "execution_count": 22
        }
      ]
    },
    {
      "cell_type": "markdown",
      "source": [
        "flatten image"
      ],
      "metadata": {
        "id": "a5bTuyUZV7t2"
      }
    },
    {
      "cell_type": "code",
      "source": [
        "flatten_size = img_size[0] * img_size[1]\n",
        "flatten_size"
      ],
      "metadata": {
        "colab": {
          "base_uri": "https://localhost:8080/"
        },
        "id": "nr1P2z6oZLtQ",
        "outputId": "dad6d846-e8a5-40e7-e569-0c6a296596f7"
      },
      "execution_count": 23,
      "outputs": [
        {
          "output_type": "execute_result",
          "data": {
            "text/plain": [
              "262144"
            ]
          },
          "metadata": {},
          "execution_count": 23
        }
      ]
    },
    {
      "cell_type": "code",
      "source": [
        "for i in range(img_length_d):\n",
        "  donnie_gray[i] = np.ndarray.flatten(donnie_gray[i]).reshape(flatten_size,1)"
      ],
      "metadata": {
        "id": "SZlvJeAqZNTY"
      },
      "execution_count": 24,
      "outputs": []
    },
    {
      "cell_type": "code",
      "source": [
        "for i in range(img_length_a):\n",
        "  ariana_gray[i] = np.ndarray.flatten(ariana_gray[i]).reshape(flatten_size,1)"
      ],
      "metadata": {
        "id": "W9jGtvK1wWDl"
      },
      "execution_count": null,
      "outputs": []
    },
    {
      "cell_type": "code",
      "source": [
        "for i in range(img_length_r):\n",
        "  ronaldo_gray[i] = np.ndarray.flatten(ronaldo_gray[i]).reshape(flatten_size,1)"
      ],
      "metadata": {
        "id": "7mfyHQ6tyWTr"
      },
      "execution_count": 25,
      "outputs": []
    },
    {
      "cell_type": "markdown",
      "source": [
        "stack individual values"
      ],
      "metadata": {
        "id": "tAhqmmm1V9iF"
      }
    },
    {
      "cell_type": "code",
      "source": [
        "donnie_gray = np.dstack(donnie_gray)"
      ],
      "metadata": {
        "id": "uVVTkR0LZOuw"
      },
      "execution_count": 26,
      "outputs": []
    },
    {
      "cell_type": "code",
      "source": [
        "ariana_gray = np.dstack(ariana_gray)"
      ],
      "metadata": {
        "id": "90Z_gtjrwbgr"
      },
      "execution_count": null,
      "outputs": []
    },
    {
      "cell_type": "code",
      "source": [
        "ronaldo_gray = np.dstack(ronaldo_gray)"
      ],
      "metadata": {
        "id": "TwX-z1AYyaUT"
      },
      "execution_count": 27,
      "outputs": []
    },
    {
      "cell_type": "code",
      "source": [
        "donnie_gray.shape"
      ],
      "metadata": {
        "id": "_nEFn82aZlfA"
      },
      "execution_count": null,
      "outputs": []
    },
    {
      "cell_type": "markdown",
      "source": [
        "rollaxis on the dimensions of images"
      ],
      "metadata": {
        "id": "8jKmrQE8V_V0"
      }
    },
    {
      "cell_type": "code",
      "source": [
        "donnie_gray = np.rollaxis(donnie_gray, axis = 2,start = 0)"
      ],
      "metadata": {
        "id": "eCehRCpsZmoI"
      },
      "execution_count": 28,
      "outputs": []
    },
    {
      "cell_type": "code",
      "source": [
        "ariana_gray = np.rollaxis(ariana_gray, axis = 2,start = 0)"
      ],
      "metadata": {
        "id": "W_354AC6wrzF"
      },
      "execution_count": null,
      "outputs": []
    },
    {
      "cell_type": "code",
      "source": [
        "ronaldo_gray = np.rollaxis(ronaldo_gray, axis = 2,start = 0)"
      ],
      "metadata": {
        "id": "0lmXRAWuyd5a"
      },
      "execution_count": 29,
      "outputs": []
    },
    {
      "cell_type": "code",
      "source": [
        "donnie_gray.shape"
      ],
      "metadata": {
        "id": "QfXPYyOBZoQ4"
      },
      "execution_count": null,
      "outputs": []
    },
    {
      "cell_type": "markdown",
      "source": [
        "reshape"
      ],
      "metadata": {
        "id": "LVPAlwxVWE6c"
      }
    },
    {
      "cell_type": "code",
      "source": [
        "donnie_gray = donnie_gray.reshape(img_length_d, flatten_size)\n",
        "donnie_gray.shape"
      ],
      "metadata": {
        "colab": {
          "base_uri": "https://localhost:8080/"
        },
        "id": "BHEySTh4ZpyY",
        "outputId": "682da5a3-9230-43a7-ca63-07103d531189"
      },
      "execution_count": 30,
      "outputs": [
        {
          "output_type": "execute_result",
          "data": {
            "text/plain": [
              "(79, 262144)"
            ]
          },
          "metadata": {},
          "execution_count": 30
        }
      ]
    },
    {
      "cell_type": "code",
      "source": [
        "ariana_gray = ariana_gray.reshape(img_length_a, flatten_size)\n",
        "ariana_gray.shape"
      ],
      "metadata": {
        "id": "V-BujMxgwvhM"
      },
      "execution_count": null,
      "outputs": []
    },
    {
      "cell_type": "code",
      "source": [
        "ronaldo_gray = ronaldo_gray.reshape(img_length_r, flatten_size)\n",
        "ronaldo_gray.shape"
      ],
      "metadata": {
        "colab": {
          "base_uri": "https://localhost:8080/"
        },
        "id": "AV81VFnByhHa",
        "outputId": "9e981548-5c13-4e0b-e512-002d1e8e90cb"
      },
      "execution_count": 31,
      "outputs": [
        {
          "output_type": "execute_result",
          "data": {
            "text/plain": [
              "(80, 262144)"
            ]
          },
          "metadata": {},
          "execution_count": 31
        }
      ]
    },
    {
      "cell_type": "markdown",
      "source": [
        "convert to dataframe"
      ],
      "metadata": {
        "id": "8CmRk9WrWG50"
      }
    },
    {
      "cell_type": "code",
      "source": [
        "donnie_df = pd.DataFrame(donnie_gray)\n",
        "donnie_df.head()"
      ],
      "metadata": {
        "colab": {
          "base_uri": "https://localhost:8080/",
          "height": 300
        },
        "id": "qhxBy38UZrVA",
        "outputId": "918d9013-337d-4ee0-a92c-3836eb1038cd"
      },
      "execution_count": 32,
      "outputs": [
        {
          "output_type": "execute_result",
          "data": {
            "text/plain": [
              "     0         1         2         3         4         5         6       \\\n",
              "0  0.783298  0.795809  0.839307  0.874686  0.900658  0.895228  0.884053   \n",
              "1  0.569454  0.569454  0.569454  0.569454  0.570982  0.572629  0.574275   \n",
              "2  0.867431  0.867331  0.867487  0.867643  0.867972  0.868448  0.868923   \n",
              "3  1.000000  1.000000  1.000000  1.000000  1.000000  1.000000  1.000000   \n",
              "4  0.084244  0.078974  0.060653  0.044749  0.031626  0.027779  0.025492   \n",
              "\n",
              "     7         8         9       ...    262134    262135    262136    262137  \\\n",
              "0  0.867286  0.859815  0.854400  ...  0.694248  0.694092  0.694005  0.693182   \n",
              "1  0.575922  0.577569  0.579216  ...  0.312754  0.301226  0.295397  0.290694   \n",
              "2  0.868970  0.868970  0.868773  ...  0.860484  0.860144  0.861554  0.863700   \n",
              "3  1.000000  1.000000  1.000000  ...  1.000000  1.000000  1.000000  1.000000   \n",
              "4  0.024723  0.024293  0.023602  ...  0.026059  0.026059  0.026059  0.026059   \n",
              "\n",
              "     262138    262139    262140    262141    262142    262143  \n",
              "0  0.691263  0.688217  0.687464  0.687354  0.687243  0.687211  \n",
              "1  0.290321  0.295166  0.300356  0.309982  0.319607  0.315936  \n",
              "2  0.872627  0.881554  0.886385  0.886385  0.886385  0.886385  \n",
              "3  1.000000  1.000000  1.000000  1.000000  1.000000  1.000000  \n",
              "4  0.026059  0.026059  0.026059  0.026059  0.026059  0.026059  \n",
              "\n",
              "[5 rows x 262144 columns]"
            ],
            "text/html": [
              "\n",
              "  <div id=\"df-ebf2a927-d568-4c6c-b0a2-caab183d5c0b\">\n",
              "    <div class=\"colab-df-container\">\n",
              "      <div>\n",
              "<style scoped>\n",
              "    .dataframe tbody tr th:only-of-type {\n",
              "        vertical-align: middle;\n",
              "    }\n",
              "\n",
              "    .dataframe tbody tr th {\n",
              "        vertical-align: top;\n",
              "    }\n",
              "\n",
              "    .dataframe thead th {\n",
              "        text-align: right;\n",
              "    }\n",
              "</style>\n",
              "<table border=\"1\" class=\"dataframe\">\n",
              "  <thead>\n",
              "    <tr style=\"text-align: right;\">\n",
              "      <th></th>\n",
              "      <th>0</th>\n",
              "      <th>1</th>\n",
              "      <th>2</th>\n",
              "      <th>3</th>\n",
              "      <th>4</th>\n",
              "      <th>5</th>\n",
              "      <th>6</th>\n",
              "      <th>7</th>\n",
              "      <th>8</th>\n",
              "      <th>9</th>\n",
              "      <th>...</th>\n",
              "      <th>262134</th>\n",
              "      <th>262135</th>\n",
              "      <th>262136</th>\n",
              "      <th>262137</th>\n",
              "      <th>262138</th>\n",
              "      <th>262139</th>\n",
              "      <th>262140</th>\n",
              "      <th>262141</th>\n",
              "      <th>262142</th>\n",
              "      <th>262143</th>\n",
              "    </tr>\n",
              "  </thead>\n",
              "  <tbody>\n",
              "    <tr>\n",
              "      <th>0</th>\n",
              "      <td>0.783298</td>\n",
              "      <td>0.795809</td>\n",
              "      <td>0.839307</td>\n",
              "      <td>0.874686</td>\n",
              "      <td>0.900658</td>\n",
              "      <td>0.895228</td>\n",
              "      <td>0.884053</td>\n",
              "      <td>0.867286</td>\n",
              "      <td>0.859815</td>\n",
              "      <td>0.854400</td>\n",
              "      <td>...</td>\n",
              "      <td>0.694248</td>\n",
              "      <td>0.694092</td>\n",
              "      <td>0.694005</td>\n",
              "      <td>0.693182</td>\n",
              "      <td>0.691263</td>\n",
              "      <td>0.688217</td>\n",
              "      <td>0.687464</td>\n",
              "      <td>0.687354</td>\n",
              "      <td>0.687243</td>\n",
              "      <td>0.687211</td>\n",
              "    </tr>\n",
              "    <tr>\n",
              "      <th>1</th>\n",
              "      <td>0.569454</td>\n",
              "      <td>0.569454</td>\n",
              "      <td>0.569454</td>\n",
              "      <td>0.569454</td>\n",
              "      <td>0.570982</td>\n",
              "      <td>0.572629</td>\n",
              "      <td>0.574275</td>\n",
              "      <td>0.575922</td>\n",
              "      <td>0.577569</td>\n",
              "      <td>0.579216</td>\n",
              "      <td>...</td>\n",
              "      <td>0.312754</td>\n",
              "      <td>0.301226</td>\n",
              "      <td>0.295397</td>\n",
              "      <td>0.290694</td>\n",
              "      <td>0.290321</td>\n",
              "      <td>0.295166</td>\n",
              "      <td>0.300356</td>\n",
              "      <td>0.309982</td>\n",
              "      <td>0.319607</td>\n",
              "      <td>0.315936</td>\n",
              "    </tr>\n",
              "    <tr>\n",
              "      <th>2</th>\n",
              "      <td>0.867431</td>\n",
              "      <td>0.867331</td>\n",
              "      <td>0.867487</td>\n",
              "      <td>0.867643</td>\n",
              "      <td>0.867972</td>\n",
              "      <td>0.868448</td>\n",
              "      <td>0.868923</td>\n",
              "      <td>0.868970</td>\n",
              "      <td>0.868970</td>\n",
              "      <td>0.868773</td>\n",
              "      <td>...</td>\n",
              "      <td>0.860484</td>\n",
              "      <td>0.860144</td>\n",
              "      <td>0.861554</td>\n",
              "      <td>0.863700</td>\n",
              "      <td>0.872627</td>\n",
              "      <td>0.881554</td>\n",
              "      <td>0.886385</td>\n",
              "      <td>0.886385</td>\n",
              "      <td>0.886385</td>\n",
              "      <td>0.886385</td>\n",
              "    </tr>\n",
              "    <tr>\n",
              "      <th>3</th>\n",
              "      <td>1.000000</td>\n",
              "      <td>1.000000</td>\n",
              "      <td>1.000000</td>\n",
              "      <td>1.000000</td>\n",
              "      <td>1.000000</td>\n",
              "      <td>1.000000</td>\n",
              "      <td>1.000000</td>\n",
              "      <td>1.000000</td>\n",
              "      <td>1.000000</td>\n",
              "      <td>1.000000</td>\n",
              "      <td>...</td>\n",
              "      <td>1.000000</td>\n",
              "      <td>1.000000</td>\n",
              "      <td>1.000000</td>\n",
              "      <td>1.000000</td>\n",
              "      <td>1.000000</td>\n",
              "      <td>1.000000</td>\n",
              "      <td>1.000000</td>\n",
              "      <td>1.000000</td>\n",
              "      <td>1.000000</td>\n",
              "      <td>1.000000</td>\n",
              "    </tr>\n",
              "    <tr>\n",
              "      <th>4</th>\n",
              "      <td>0.084244</td>\n",
              "      <td>0.078974</td>\n",
              "      <td>0.060653</td>\n",
              "      <td>0.044749</td>\n",
              "      <td>0.031626</td>\n",
              "      <td>0.027779</td>\n",
              "      <td>0.025492</td>\n",
              "      <td>0.024723</td>\n",
              "      <td>0.024293</td>\n",
              "      <td>0.023602</td>\n",
              "      <td>...</td>\n",
              "      <td>0.026059</td>\n",
              "      <td>0.026059</td>\n",
              "      <td>0.026059</td>\n",
              "      <td>0.026059</td>\n",
              "      <td>0.026059</td>\n",
              "      <td>0.026059</td>\n",
              "      <td>0.026059</td>\n",
              "      <td>0.026059</td>\n",
              "      <td>0.026059</td>\n",
              "      <td>0.026059</td>\n",
              "    </tr>\n",
              "  </tbody>\n",
              "</table>\n",
              "<p>5 rows × 262144 columns</p>\n",
              "</div>\n",
              "      <button class=\"colab-df-convert\" onclick=\"convertToInteractive('df-ebf2a927-d568-4c6c-b0a2-caab183d5c0b')\"\n",
              "              title=\"Convert this dataframe to an interactive table.\"\n",
              "              style=\"display:none;\">\n",
              "        \n",
              "  <svg xmlns=\"http://www.w3.org/2000/svg\" height=\"24px\"viewBox=\"0 0 24 24\"\n",
              "       width=\"24px\">\n",
              "    <path d=\"M0 0h24v24H0V0z\" fill=\"none\"/>\n",
              "    <path d=\"M18.56 5.44l.94 2.06.94-2.06 2.06-.94-2.06-.94-.94-2.06-.94 2.06-2.06.94zm-11 1L8.5 8.5l.94-2.06 2.06-.94-2.06-.94L8.5 2.5l-.94 2.06-2.06.94zm10 10l.94 2.06.94-2.06 2.06-.94-2.06-.94-.94-2.06-.94 2.06-2.06.94z\"/><path d=\"M17.41 7.96l-1.37-1.37c-.4-.4-.92-.59-1.43-.59-.52 0-1.04.2-1.43.59L10.3 9.45l-7.72 7.72c-.78.78-.78 2.05 0 2.83L4 21.41c.39.39.9.59 1.41.59.51 0 1.02-.2 1.41-.59l7.78-7.78 2.81-2.81c.8-.78.8-2.07 0-2.86zM5.41 20L4 18.59l7.72-7.72 1.47 1.35L5.41 20z\"/>\n",
              "  </svg>\n",
              "      </button>\n",
              "      \n",
              "  <style>\n",
              "    .colab-df-container {\n",
              "      display:flex;\n",
              "      flex-wrap:wrap;\n",
              "      gap: 12px;\n",
              "    }\n",
              "\n",
              "    .colab-df-convert {\n",
              "      background-color: #E8F0FE;\n",
              "      border: none;\n",
              "      border-radius: 50%;\n",
              "      cursor: pointer;\n",
              "      display: none;\n",
              "      fill: #1967D2;\n",
              "      height: 32px;\n",
              "      padding: 0 0 0 0;\n",
              "      width: 32px;\n",
              "    }\n",
              "\n",
              "    .colab-df-convert:hover {\n",
              "      background-color: #E2EBFA;\n",
              "      box-shadow: 0px 1px 2px rgba(60, 64, 67, 0.3), 0px 1px 3px 1px rgba(60, 64, 67, 0.15);\n",
              "      fill: #174EA6;\n",
              "    }\n",
              "\n",
              "    [theme=dark] .colab-df-convert {\n",
              "      background-color: #3B4455;\n",
              "      fill: #D2E3FC;\n",
              "    }\n",
              "\n",
              "    [theme=dark] .colab-df-convert:hover {\n",
              "      background-color: #434B5C;\n",
              "      box-shadow: 0px 1px 3px 1px rgba(0, 0, 0, 0.15);\n",
              "      filter: drop-shadow(0px 1px 2px rgba(0, 0, 0, 0.3));\n",
              "      fill: #FFFFFF;\n",
              "    }\n",
              "  </style>\n",
              "\n",
              "      <script>\n",
              "        const buttonEl =\n",
              "          document.querySelector('#df-ebf2a927-d568-4c6c-b0a2-caab183d5c0b button.colab-df-convert');\n",
              "        buttonEl.style.display =\n",
              "          google.colab.kernel.accessAllowed ? 'block' : 'none';\n",
              "\n",
              "        async function convertToInteractive(key) {\n",
              "          const element = document.querySelector('#df-ebf2a927-d568-4c6c-b0a2-caab183d5c0b');\n",
              "          const dataTable =\n",
              "            await google.colab.kernel.invokeFunction('convertToInteractive',\n",
              "                                                     [key], {});\n",
              "          if (!dataTable) return;\n",
              "\n",
              "          const docLinkHtml = 'Like what you see? Visit the ' +\n",
              "            '<a target=\"_blank\" href=https://colab.research.google.com/notebooks/data_table.ipynb>data table notebook</a>'\n",
              "            + ' to learn more about interactive tables.';\n",
              "          element.innerHTML = '';\n",
              "          dataTable['output_type'] = 'display_data';\n",
              "          await google.colab.output.renderOutput(dataTable, element);\n",
              "          const docLink = document.createElement('div');\n",
              "          docLink.innerHTML = docLinkHtml;\n",
              "          element.appendChild(docLink);\n",
              "        }\n",
              "      </script>\n",
              "    </div>\n",
              "  </div>\n",
              "  "
            ]
          },
          "metadata": {},
          "execution_count": 32
        }
      ]
    },
    {
      "cell_type": "code",
      "source": [
        "ariana_df = pd.DataFrame(ariana_gray)\n",
        "ariana_df.head()"
      ],
      "metadata": {
        "id": "hB9xGIlVZtkg"
      },
      "execution_count": null,
      "outputs": []
    },
    {
      "cell_type": "code",
      "source": [
        "ronaldo_df = pd.DataFrame(ronaldo_gray)\n",
        "ronaldo_df[\"label\"] = \"Cristiano Ronaldo\"\n",
        "ronaldo_df.head()"
      ],
      "metadata": {
        "colab": {
          "base_uri": "https://localhost:8080/",
          "height": 386
        },
        "id": "RX3kf-bNylQC",
        "outputId": "2756a9b0-9932-4bfa-b805-6dd8d02e779e"
      },
      "execution_count": 33,
      "outputs": [
        {
          "output_type": "execute_result",
          "data": {
            "text/plain": [
              "          0         1         2         3         4         5         6  \\\n",
              "0  0.556718  0.556718  0.556718  0.556718  0.556718  0.556718  0.556718   \n",
              "1  0.000000  0.000000  0.000000  0.000000  0.000000  0.000000  0.000000   \n",
              "2  0.336791  0.337017  0.337789  0.337835  0.338191  0.339717  0.340759   \n",
              "3  0.845652  0.845652  0.845652  0.845652  0.845652  0.845652  0.845652   \n",
              "4  0.003922  0.003922  0.003922  0.003922  0.003922  0.003922  0.003922   \n",
              "\n",
              "          7         8         9  ...    262135    262136    262137    262138  \\\n",
              "0  0.556718  0.556718  0.556718  ...  0.643207  0.643207  0.644816  0.648655   \n",
              "1  0.000000  0.000000  0.000000  ...  0.000000  0.000000  0.000000  0.000000   \n",
              "2  0.341365  0.342725  0.344141  ...  0.420188  0.416879  0.398497  0.385553   \n",
              "3  0.845652  0.845652  0.845652  ...  0.857417  0.857003  0.854705  0.853495   \n",
              "4  0.003922  0.003922  0.003922  ...  0.841052  0.813634  0.774784  0.690654   \n",
              "\n",
              "     262139    262140    262141    262142    262143              label  \n",
              "0  0.650798  0.650798  0.650798  0.650798  0.650798  Cristiano Ronaldo  \n",
              "1  0.000000  0.000000  0.000000  0.000000  0.000000  Cristiano Ronaldo  \n",
              "2  0.378659  0.370596  0.362222  0.354557  0.352308  Cristiano Ronaldo  \n",
              "3  0.853495  0.853495  0.853495  0.853495  0.853495  Cristiano Ronaldo  \n",
              "4  0.606524  0.544412  0.502547  0.460682  0.489177  Cristiano Ronaldo  \n",
              "\n",
              "[5 rows x 262145 columns]"
            ],
            "text/html": [
              "\n",
              "  <div id=\"df-02297c62-c0a4-42ad-a6d5-d51db5ba4109\">\n",
              "    <div class=\"colab-df-container\">\n",
              "      <div>\n",
              "<style scoped>\n",
              "    .dataframe tbody tr th:only-of-type {\n",
              "        vertical-align: middle;\n",
              "    }\n",
              "\n",
              "    .dataframe tbody tr th {\n",
              "        vertical-align: top;\n",
              "    }\n",
              "\n",
              "    .dataframe thead th {\n",
              "        text-align: right;\n",
              "    }\n",
              "</style>\n",
              "<table border=\"1\" class=\"dataframe\">\n",
              "  <thead>\n",
              "    <tr style=\"text-align: right;\">\n",
              "      <th></th>\n",
              "      <th>0</th>\n",
              "      <th>1</th>\n",
              "      <th>2</th>\n",
              "      <th>3</th>\n",
              "      <th>4</th>\n",
              "      <th>5</th>\n",
              "      <th>6</th>\n",
              "      <th>7</th>\n",
              "      <th>8</th>\n",
              "      <th>9</th>\n",
              "      <th>...</th>\n",
              "      <th>262135</th>\n",
              "      <th>262136</th>\n",
              "      <th>262137</th>\n",
              "      <th>262138</th>\n",
              "      <th>262139</th>\n",
              "      <th>262140</th>\n",
              "      <th>262141</th>\n",
              "      <th>262142</th>\n",
              "      <th>262143</th>\n",
              "      <th>label</th>\n",
              "    </tr>\n",
              "  </thead>\n",
              "  <tbody>\n",
              "    <tr>\n",
              "      <th>0</th>\n",
              "      <td>0.556718</td>\n",
              "      <td>0.556718</td>\n",
              "      <td>0.556718</td>\n",
              "      <td>0.556718</td>\n",
              "      <td>0.556718</td>\n",
              "      <td>0.556718</td>\n",
              "      <td>0.556718</td>\n",
              "      <td>0.556718</td>\n",
              "      <td>0.556718</td>\n",
              "      <td>0.556718</td>\n",
              "      <td>...</td>\n",
              "      <td>0.643207</td>\n",
              "      <td>0.643207</td>\n",
              "      <td>0.644816</td>\n",
              "      <td>0.648655</td>\n",
              "      <td>0.650798</td>\n",
              "      <td>0.650798</td>\n",
              "      <td>0.650798</td>\n",
              "      <td>0.650798</td>\n",
              "      <td>0.650798</td>\n",
              "      <td>Cristiano Ronaldo</td>\n",
              "    </tr>\n",
              "    <tr>\n",
              "      <th>1</th>\n",
              "      <td>0.000000</td>\n",
              "      <td>0.000000</td>\n",
              "      <td>0.000000</td>\n",
              "      <td>0.000000</td>\n",
              "      <td>0.000000</td>\n",
              "      <td>0.000000</td>\n",
              "      <td>0.000000</td>\n",
              "      <td>0.000000</td>\n",
              "      <td>0.000000</td>\n",
              "      <td>0.000000</td>\n",
              "      <td>...</td>\n",
              "      <td>0.000000</td>\n",
              "      <td>0.000000</td>\n",
              "      <td>0.000000</td>\n",
              "      <td>0.000000</td>\n",
              "      <td>0.000000</td>\n",
              "      <td>0.000000</td>\n",
              "      <td>0.000000</td>\n",
              "      <td>0.000000</td>\n",
              "      <td>0.000000</td>\n",
              "      <td>Cristiano Ronaldo</td>\n",
              "    </tr>\n",
              "    <tr>\n",
              "      <th>2</th>\n",
              "      <td>0.336791</td>\n",
              "      <td>0.337017</td>\n",
              "      <td>0.337789</td>\n",
              "      <td>0.337835</td>\n",
              "      <td>0.338191</td>\n",
              "      <td>0.339717</td>\n",
              "      <td>0.340759</td>\n",
              "      <td>0.341365</td>\n",
              "      <td>0.342725</td>\n",
              "      <td>0.344141</td>\n",
              "      <td>...</td>\n",
              "      <td>0.420188</td>\n",
              "      <td>0.416879</td>\n",
              "      <td>0.398497</td>\n",
              "      <td>0.385553</td>\n",
              "      <td>0.378659</td>\n",
              "      <td>0.370596</td>\n",
              "      <td>0.362222</td>\n",
              "      <td>0.354557</td>\n",
              "      <td>0.352308</td>\n",
              "      <td>Cristiano Ronaldo</td>\n",
              "    </tr>\n",
              "    <tr>\n",
              "      <th>3</th>\n",
              "      <td>0.845652</td>\n",
              "      <td>0.845652</td>\n",
              "      <td>0.845652</td>\n",
              "      <td>0.845652</td>\n",
              "      <td>0.845652</td>\n",
              "      <td>0.845652</td>\n",
              "      <td>0.845652</td>\n",
              "      <td>0.845652</td>\n",
              "      <td>0.845652</td>\n",
              "      <td>0.845652</td>\n",
              "      <td>...</td>\n",
              "      <td>0.857417</td>\n",
              "      <td>0.857003</td>\n",
              "      <td>0.854705</td>\n",
              "      <td>0.853495</td>\n",
              "      <td>0.853495</td>\n",
              "      <td>0.853495</td>\n",
              "      <td>0.853495</td>\n",
              "      <td>0.853495</td>\n",
              "      <td>0.853495</td>\n",
              "      <td>Cristiano Ronaldo</td>\n",
              "    </tr>\n",
              "    <tr>\n",
              "      <th>4</th>\n",
              "      <td>0.003922</td>\n",
              "      <td>0.003922</td>\n",
              "      <td>0.003922</td>\n",
              "      <td>0.003922</td>\n",
              "      <td>0.003922</td>\n",
              "      <td>0.003922</td>\n",
              "      <td>0.003922</td>\n",
              "      <td>0.003922</td>\n",
              "      <td>0.003922</td>\n",
              "      <td>0.003922</td>\n",
              "      <td>...</td>\n",
              "      <td>0.841052</td>\n",
              "      <td>0.813634</td>\n",
              "      <td>0.774784</td>\n",
              "      <td>0.690654</td>\n",
              "      <td>0.606524</td>\n",
              "      <td>0.544412</td>\n",
              "      <td>0.502547</td>\n",
              "      <td>0.460682</td>\n",
              "      <td>0.489177</td>\n",
              "      <td>Cristiano Ronaldo</td>\n",
              "    </tr>\n",
              "  </tbody>\n",
              "</table>\n",
              "<p>5 rows × 262145 columns</p>\n",
              "</div>\n",
              "      <button class=\"colab-df-convert\" onclick=\"convertToInteractive('df-02297c62-c0a4-42ad-a6d5-d51db5ba4109')\"\n",
              "              title=\"Convert this dataframe to an interactive table.\"\n",
              "              style=\"display:none;\">\n",
              "        \n",
              "  <svg xmlns=\"http://www.w3.org/2000/svg\" height=\"24px\"viewBox=\"0 0 24 24\"\n",
              "       width=\"24px\">\n",
              "    <path d=\"M0 0h24v24H0V0z\" fill=\"none\"/>\n",
              "    <path d=\"M18.56 5.44l.94 2.06.94-2.06 2.06-.94-2.06-.94-.94-2.06-.94 2.06-2.06.94zm-11 1L8.5 8.5l.94-2.06 2.06-.94-2.06-.94L8.5 2.5l-.94 2.06-2.06.94zm10 10l.94 2.06.94-2.06 2.06-.94-2.06-.94-.94-2.06-.94 2.06-2.06.94z\"/><path d=\"M17.41 7.96l-1.37-1.37c-.4-.4-.92-.59-1.43-.59-.52 0-1.04.2-1.43.59L10.3 9.45l-7.72 7.72c-.78.78-.78 2.05 0 2.83L4 21.41c.39.39.9.59 1.41.59.51 0 1.02-.2 1.41-.59l7.78-7.78 2.81-2.81c.8-.78.8-2.07 0-2.86zM5.41 20L4 18.59l7.72-7.72 1.47 1.35L5.41 20z\"/>\n",
              "  </svg>\n",
              "      </button>\n",
              "      \n",
              "  <style>\n",
              "    .colab-df-container {\n",
              "      display:flex;\n",
              "      flex-wrap:wrap;\n",
              "      gap: 12px;\n",
              "    }\n",
              "\n",
              "    .colab-df-convert {\n",
              "      background-color: #E8F0FE;\n",
              "      border: none;\n",
              "      border-radius: 50%;\n",
              "      cursor: pointer;\n",
              "      display: none;\n",
              "      fill: #1967D2;\n",
              "      height: 32px;\n",
              "      padding: 0 0 0 0;\n",
              "      width: 32px;\n",
              "    }\n",
              "\n",
              "    .colab-df-convert:hover {\n",
              "      background-color: #E2EBFA;\n",
              "      box-shadow: 0px 1px 2px rgba(60, 64, 67, 0.3), 0px 1px 3px 1px rgba(60, 64, 67, 0.15);\n",
              "      fill: #174EA6;\n",
              "    }\n",
              "\n",
              "    [theme=dark] .colab-df-convert {\n",
              "      background-color: #3B4455;\n",
              "      fill: #D2E3FC;\n",
              "    }\n",
              "\n",
              "    [theme=dark] .colab-df-convert:hover {\n",
              "      background-color: #434B5C;\n",
              "      box-shadow: 0px 1px 3px 1px rgba(0, 0, 0, 0.15);\n",
              "      filter: drop-shadow(0px 1px 2px rgba(0, 0, 0, 0.3));\n",
              "      fill: #FFFFFF;\n",
              "    }\n",
              "  </style>\n",
              "\n",
              "      <script>\n",
              "        const buttonEl =\n",
              "          document.querySelector('#df-02297c62-c0a4-42ad-a6d5-d51db5ba4109 button.colab-df-convert');\n",
              "        buttonEl.style.display =\n",
              "          google.colab.kernel.accessAllowed ? 'block' : 'none';\n",
              "\n",
              "        async function convertToInteractive(key) {\n",
              "          const element = document.querySelector('#df-02297c62-c0a4-42ad-a6d5-d51db5ba4109');\n",
              "          const dataTable =\n",
              "            await google.colab.kernel.invokeFunction('convertToInteractive',\n",
              "                                                     [key], {});\n",
              "          if (!dataTable) return;\n",
              "\n",
              "          const docLinkHtml = 'Like what you see? Visit the ' +\n",
              "            '<a target=\"_blank\" href=https://colab.research.google.com/notebooks/data_table.ipynb>data table notebook</a>'\n",
              "            + ' to learn more about interactive tables.';\n",
              "          element.innerHTML = '';\n",
              "          dataTable['output_type'] = 'display_data';\n",
              "          await google.colab.output.renderOutput(dataTable, element);\n",
              "          const docLink = document.createElement('div');\n",
              "          docLink.innerHTML = docLinkHtml;\n",
              "          element.appendChild(docLink);\n",
              "        }\n",
              "      </script>\n",
              "    </div>\n",
              "  </div>\n",
              "  "
            ]
          },
          "metadata": {},
          "execution_count": 33
        }
      ]
    },
    {
      "cell_type": "code",
      "source": [
        "donnie_df[\"label\"] = \"Dwayne Johnson\"\n",
        "#ariana_df[\"label\"] = \"Ariana Grande\""
      ],
      "metadata": {
        "id": "aLOrrdvCw3C6"
      },
      "execution_count": 34,
      "outputs": []
    },
    {
      "cell_type": "code",
      "source": [
        "#df_1 = pd.concat([donnie_df, ariana_df])\n",
        "df = pd.concat([\n",
        "    donnie_df, ronaldo_df])\n",
        "df.head()"
      ],
      "metadata": {
        "colab": {
          "base_uri": "https://localhost:8080/",
          "height": 386
        },
        "id": "2K7FPj-YxD09",
        "outputId": "f6851d9d-5a81-4fd7-fcc1-6724059eeab0"
      },
      "execution_count": 35,
      "outputs": [
        {
          "output_type": "execute_result",
          "data": {
            "text/plain": [
              "          0         1         2         3         4         5         6  \\\n",
              "0  0.783298  0.795809  0.839307  0.874686  0.900658  0.895228  0.884053   \n",
              "1  0.569454  0.569454  0.569454  0.569454  0.570982  0.572629  0.574275   \n",
              "2  0.867431  0.867331  0.867487  0.867643  0.867972  0.868448  0.868923   \n",
              "3  1.000000  1.000000  1.000000  1.000000  1.000000  1.000000  1.000000   \n",
              "4  0.084244  0.078974  0.060653  0.044749  0.031626  0.027779  0.025492   \n",
              "\n",
              "          7         8         9  ...    262135    262136    262137    262138  \\\n",
              "0  0.867286  0.859815  0.854400  ...  0.694092  0.694005  0.693182  0.691263   \n",
              "1  0.575922  0.577569  0.579216  ...  0.301226  0.295397  0.290694  0.290321   \n",
              "2  0.868970  0.868970  0.868773  ...  0.860144  0.861554  0.863700  0.872627   \n",
              "3  1.000000  1.000000  1.000000  ...  1.000000  1.000000  1.000000  1.000000   \n",
              "4  0.024723  0.024293  0.023602  ...  0.026059  0.026059  0.026059  0.026059   \n",
              "\n",
              "     262139    262140    262141    262142    262143           label  \n",
              "0  0.688217  0.687464  0.687354  0.687243  0.687211  Dwayne Johnson  \n",
              "1  0.295166  0.300356  0.309982  0.319607  0.315936  Dwayne Johnson  \n",
              "2  0.881554  0.886385  0.886385  0.886385  0.886385  Dwayne Johnson  \n",
              "3  1.000000  1.000000  1.000000  1.000000  1.000000  Dwayne Johnson  \n",
              "4  0.026059  0.026059  0.026059  0.026059  0.026059  Dwayne Johnson  \n",
              "\n",
              "[5 rows x 262145 columns]"
            ],
            "text/html": [
              "\n",
              "  <div id=\"df-7812828f-f7a5-491b-9310-9a102bd6b5e2\">\n",
              "    <div class=\"colab-df-container\">\n",
              "      <div>\n",
              "<style scoped>\n",
              "    .dataframe tbody tr th:only-of-type {\n",
              "        vertical-align: middle;\n",
              "    }\n",
              "\n",
              "    .dataframe tbody tr th {\n",
              "        vertical-align: top;\n",
              "    }\n",
              "\n",
              "    .dataframe thead th {\n",
              "        text-align: right;\n",
              "    }\n",
              "</style>\n",
              "<table border=\"1\" class=\"dataframe\">\n",
              "  <thead>\n",
              "    <tr style=\"text-align: right;\">\n",
              "      <th></th>\n",
              "      <th>0</th>\n",
              "      <th>1</th>\n",
              "      <th>2</th>\n",
              "      <th>3</th>\n",
              "      <th>4</th>\n",
              "      <th>5</th>\n",
              "      <th>6</th>\n",
              "      <th>7</th>\n",
              "      <th>8</th>\n",
              "      <th>9</th>\n",
              "      <th>...</th>\n",
              "      <th>262135</th>\n",
              "      <th>262136</th>\n",
              "      <th>262137</th>\n",
              "      <th>262138</th>\n",
              "      <th>262139</th>\n",
              "      <th>262140</th>\n",
              "      <th>262141</th>\n",
              "      <th>262142</th>\n",
              "      <th>262143</th>\n",
              "      <th>label</th>\n",
              "    </tr>\n",
              "  </thead>\n",
              "  <tbody>\n",
              "    <tr>\n",
              "      <th>0</th>\n",
              "      <td>0.783298</td>\n",
              "      <td>0.795809</td>\n",
              "      <td>0.839307</td>\n",
              "      <td>0.874686</td>\n",
              "      <td>0.900658</td>\n",
              "      <td>0.895228</td>\n",
              "      <td>0.884053</td>\n",
              "      <td>0.867286</td>\n",
              "      <td>0.859815</td>\n",
              "      <td>0.854400</td>\n",
              "      <td>...</td>\n",
              "      <td>0.694092</td>\n",
              "      <td>0.694005</td>\n",
              "      <td>0.693182</td>\n",
              "      <td>0.691263</td>\n",
              "      <td>0.688217</td>\n",
              "      <td>0.687464</td>\n",
              "      <td>0.687354</td>\n",
              "      <td>0.687243</td>\n",
              "      <td>0.687211</td>\n",
              "      <td>Dwayne Johnson</td>\n",
              "    </tr>\n",
              "    <tr>\n",
              "      <th>1</th>\n",
              "      <td>0.569454</td>\n",
              "      <td>0.569454</td>\n",
              "      <td>0.569454</td>\n",
              "      <td>0.569454</td>\n",
              "      <td>0.570982</td>\n",
              "      <td>0.572629</td>\n",
              "      <td>0.574275</td>\n",
              "      <td>0.575922</td>\n",
              "      <td>0.577569</td>\n",
              "      <td>0.579216</td>\n",
              "      <td>...</td>\n",
              "      <td>0.301226</td>\n",
              "      <td>0.295397</td>\n",
              "      <td>0.290694</td>\n",
              "      <td>0.290321</td>\n",
              "      <td>0.295166</td>\n",
              "      <td>0.300356</td>\n",
              "      <td>0.309982</td>\n",
              "      <td>0.319607</td>\n",
              "      <td>0.315936</td>\n",
              "      <td>Dwayne Johnson</td>\n",
              "    </tr>\n",
              "    <tr>\n",
              "      <th>2</th>\n",
              "      <td>0.867431</td>\n",
              "      <td>0.867331</td>\n",
              "      <td>0.867487</td>\n",
              "      <td>0.867643</td>\n",
              "      <td>0.867972</td>\n",
              "      <td>0.868448</td>\n",
              "      <td>0.868923</td>\n",
              "      <td>0.868970</td>\n",
              "      <td>0.868970</td>\n",
              "      <td>0.868773</td>\n",
              "      <td>...</td>\n",
              "      <td>0.860144</td>\n",
              "      <td>0.861554</td>\n",
              "      <td>0.863700</td>\n",
              "      <td>0.872627</td>\n",
              "      <td>0.881554</td>\n",
              "      <td>0.886385</td>\n",
              "      <td>0.886385</td>\n",
              "      <td>0.886385</td>\n",
              "      <td>0.886385</td>\n",
              "      <td>Dwayne Johnson</td>\n",
              "    </tr>\n",
              "    <tr>\n",
              "      <th>3</th>\n",
              "      <td>1.000000</td>\n",
              "      <td>1.000000</td>\n",
              "      <td>1.000000</td>\n",
              "      <td>1.000000</td>\n",
              "      <td>1.000000</td>\n",
              "      <td>1.000000</td>\n",
              "      <td>1.000000</td>\n",
              "      <td>1.000000</td>\n",
              "      <td>1.000000</td>\n",
              "      <td>1.000000</td>\n",
              "      <td>...</td>\n",
              "      <td>1.000000</td>\n",
              "      <td>1.000000</td>\n",
              "      <td>1.000000</td>\n",
              "      <td>1.000000</td>\n",
              "      <td>1.000000</td>\n",
              "      <td>1.000000</td>\n",
              "      <td>1.000000</td>\n",
              "      <td>1.000000</td>\n",
              "      <td>1.000000</td>\n",
              "      <td>Dwayne Johnson</td>\n",
              "    </tr>\n",
              "    <tr>\n",
              "      <th>4</th>\n",
              "      <td>0.084244</td>\n",
              "      <td>0.078974</td>\n",
              "      <td>0.060653</td>\n",
              "      <td>0.044749</td>\n",
              "      <td>0.031626</td>\n",
              "      <td>0.027779</td>\n",
              "      <td>0.025492</td>\n",
              "      <td>0.024723</td>\n",
              "      <td>0.024293</td>\n",
              "      <td>0.023602</td>\n",
              "      <td>...</td>\n",
              "      <td>0.026059</td>\n",
              "      <td>0.026059</td>\n",
              "      <td>0.026059</td>\n",
              "      <td>0.026059</td>\n",
              "      <td>0.026059</td>\n",
              "      <td>0.026059</td>\n",
              "      <td>0.026059</td>\n",
              "      <td>0.026059</td>\n",
              "      <td>0.026059</td>\n",
              "      <td>Dwayne Johnson</td>\n",
              "    </tr>\n",
              "  </tbody>\n",
              "</table>\n",
              "<p>5 rows × 262145 columns</p>\n",
              "</div>\n",
              "      <button class=\"colab-df-convert\" onclick=\"convertToInteractive('df-7812828f-f7a5-491b-9310-9a102bd6b5e2')\"\n",
              "              title=\"Convert this dataframe to an interactive table.\"\n",
              "              style=\"display:none;\">\n",
              "        \n",
              "  <svg xmlns=\"http://www.w3.org/2000/svg\" height=\"24px\"viewBox=\"0 0 24 24\"\n",
              "       width=\"24px\">\n",
              "    <path d=\"M0 0h24v24H0V0z\" fill=\"none\"/>\n",
              "    <path d=\"M18.56 5.44l.94 2.06.94-2.06 2.06-.94-2.06-.94-.94-2.06-.94 2.06-2.06.94zm-11 1L8.5 8.5l.94-2.06 2.06-.94-2.06-.94L8.5 2.5l-.94 2.06-2.06.94zm10 10l.94 2.06.94-2.06 2.06-.94-2.06-.94-.94-2.06-.94 2.06-2.06.94z\"/><path d=\"M17.41 7.96l-1.37-1.37c-.4-.4-.92-.59-1.43-.59-.52 0-1.04.2-1.43.59L10.3 9.45l-7.72 7.72c-.78.78-.78 2.05 0 2.83L4 21.41c.39.39.9.59 1.41.59.51 0 1.02-.2 1.41-.59l7.78-7.78 2.81-2.81c.8-.78.8-2.07 0-2.86zM5.41 20L4 18.59l7.72-7.72 1.47 1.35L5.41 20z\"/>\n",
              "  </svg>\n",
              "      </button>\n",
              "      \n",
              "  <style>\n",
              "    .colab-df-container {\n",
              "      display:flex;\n",
              "      flex-wrap:wrap;\n",
              "      gap: 12px;\n",
              "    }\n",
              "\n",
              "    .colab-df-convert {\n",
              "      background-color: #E8F0FE;\n",
              "      border: none;\n",
              "      border-radius: 50%;\n",
              "      cursor: pointer;\n",
              "      display: none;\n",
              "      fill: #1967D2;\n",
              "      height: 32px;\n",
              "      padding: 0 0 0 0;\n",
              "      width: 32px;\n",
              "    }\n",
              "\n",
              "    .colab-df-convert:hover {\n",
              "      background-color: #E2EBFA;\n",
              "      box-shadow: 0px 1px 2px rgba(60, 64, 67, 0.3), 0px 1px 3px 1px rgba(60, 64, 67, 0.15);\n",
              "      fill: #174EA6;\n",
              "    }\n",
              "\n",
              "    [theme=dark] .colab-df-convert {\n",
              "      background-color: #3B4455;\n",
              "      fill: #D2E3FC;\n",
              "    }\n",
              "\n",
              "    [theme=dark] .colab-df-convert:hover {\n",
              "      background-color: #434B5C;\n",
              "      box-shadow: 0px 1px 3px 1px rgba(0, 0, 0, 0.15);\n",
              "      filter: drop-shadow(0px 1px 2px rgba(0, 0, 0, 0.3));\n",
              "      fill: #FFFFFF;\n",
              "    }\n",
              "  </style>\n",
              "\n",
              "      <script>\n",
              "        const buttonEl =\n",
              "          document.querySelector('#df-7812828f-f7a5-491b-9310-9a102bd6b5e2 button.colab-df-convert');\n",
              "        buttonEl.style.display =\n",
              "          google.colab.kernel.accessAllowed ? 'block' : 'none';\n",
              "\n",
              "        async function convertToInteractive(key) {\n",
              "          const element = document.querySelector('#df-7812828f-f7a5-491b-9310-9a102bd6b5e2');\n",
              "          const dataTable =\n",
              "            await google.colab.kernel.invokeFunction('convertToInteractive',\n",
              "                                                     [key], {});\n",
              "          if (!dataTable) return;\n",
              "\n",
              "          const docLinkHtml = 'Like what you see? Visit the ' +\n",
              "            '<a target=\"_blank\" href=https://colab.research.google.com/notebooks/data_table.ipynb>data table notebook</a>'\n",
              "            + ' to learn more about interactive tables.';\n",
              "          element.innerHTML = '';\n",
              "          dataTable['output_type'] = 'display_data';\n",
              "          await google.colab.output.renderOutput(dataTable, element);\n",
              "          const docLink = document.createElement('div');\n",
              "          docLink.innerHTML = docLinkHtml;\n",
              "          element.appendChild(docLink);\n",
              "        }\n",
              "      </script>\n",
              "    </div>\n",
              "  </div>\n",
              "  "
            ]
          },
          "metadata": {},
          "execution_count": 35
        }
      ]
    },
    {
      "cell_type": "code",
      "source": [
        "from sklearn.utils import shuffle"
      ],
      "metadata": {
        "id": "lZh4BhP9y2hD"
      },
      "execution_count": 36,
      "outputs": []
    },
    {
      "cell_type": "code",
      "source": [
        "df_index = shuffle(df).reset_index()"
      ],
      "metadata": {
        "id": "G7BLSF_My7fy"
      },
      "execution_count": 37,
      "outputs": []
    },
    {
      "cell_type": "code",
      "source": [
        "df_index.head()"
      ],
      "metadata": {
        "id": "a8ViP3vPy86K",
        "colab": {
          "base_uri": "https://localhost:8080/",
          "height": 366
        },
        "outputId": "fe129979-82f3-4b3a-f062-42d332b488bf"
      },
      "execution_count": 38,
      "outputs": [
        {
          "output_type": "execute_result",
          "data": {
            "text/plain": [
              "   index         0         1         2         3         4         5  \\\n",
              "0     18  0.216529  0.217080  0.219317  0.221553  0.223964  0.227697   \n",
              "1      0  0.783298  0.795809  0.839307  0.874686  0.900658  0.895228   \n",
              "2      5  0.195254  0.195254  0.195254  0.195254  0.195254  0.195254   \n",
              "3      3  1.000000  1.000000  1.000000  1.000000  1.000000  1.000000   \n",
              "4     42  0.492869  0.492869  0.492869  0.492869  0.492869  0.492869   \n",
              "\n",
              "          6         7         8  ...    262135    262136    262137    262138  \\\n",
              "0  0.231155  0.234132  0.237569  ...  0.231640  0.229834  0.225209  0.220680   \n",
              "1  0.884053  0.867286  0.859815  ...  0.694092  0.694005  0.693182  0.691263   \n",
              "2  0.195254  0.195254  0.195254  ...  0.792425  0.792425  0.792958  0.794988   \n",
              "3  1.000000  1.000000  1.000000  ...  1.000000  1.000000  1.000000  1.000000   \n",
              "4  0.492869  0.492869  0.492869  ...  0.502684  0.503098  0.505395  0.506605   \n",
              "\n",
              "     262139    262140    262141    262142    262143              label  \n",
              "0  0.216207  0.209758  0.202757  0.193811  0.191605  Cristiano Ronaldo  \n",
              "1  0.688217  0.687464  0.687354  0.687243  0.687211     Dwayne Johnson  \n",
              "2  0.796347  0.796347  0.792307  0.782158  0.781469  Cristiano Ronaldo  \n",
              "3  1.000000  1.000000  1.000000  1.000000  1.000000     Dwayne Johnson  \n",
              "4  0.506605  0.506605  0.506605  0.506605  0.506605     Dwayne Johnson  \n",
              "\n",
              "[5 rows x 262146 columns]"
            ],
            "text/html": [
              "\n",
              "  <div id=\"df-50675ab6-9d10-40e9-b140-5bf93ac113c1\">\n",
              "    <div class=\"colab-df-container\">\n",
              "      <div>\n",
              "<style scoped>\n",
              "    .dataframe tbody tr th:only-of-type {\n",
              "        vertical-align: middle;\n",
              "    }\n",
              "\n",
              "    .dataframe tbody tr th {\n",
              "        vertical-align: top;\n",
              "    }\n",
              "\n",
              "    .dataframe thead th {\n",
              "        text-align: right;\n",
              "    }\n",
              "</style>\n",
              "<table border=\"1\" class=\"dataframe\">\n",
              "  <thead>\n",
              "    <tr style=\"text-align: right;\">\n",
              "      <th></th>\n",
              "      <th>index</th>\n",
              "      <th>0</th>\n",
              "      <th>1</th>\n",
              "      <th>2</th>\n",
              "      <th>3</th>\n",
              "      <th>4</th>\n",
              "      <th>5</th>\n",
              "      <th>6</th>\n",
              "      <th>7</th>\n",
              "      <th>8</th>\n",
              "      <th>...</th>\n",
              "      <th>262135</th>\n",
              "      <th>262136</th>\n",
              "      <th>262137</th>\n",
              "      <th>262138</th>\n",
              "      <th>262139</th>\n",
              "      <th>262140</th>\n",
              "      <th>262141</th>\n",
              "      <th>262142</th>\n",
              "      <th>262143</th>\n",
              "      <th>label</th>\n",
              "    </tr>\n",
              "  </thead>\n",
              "  <tbody>\n",
              "    <tr>\n",
              "      <th>0</th>\n",
              "      <td>18</td>\n",
              "      <td>0.216529</td>\n",
              "      <td>0.217080</td>\n",
              "      <td>0.219317</td>\n",
              "      <td>0.221553</td>\n",
              "      <td>0.223964</td>\n",
              "      <td>0.227697</td>\n",
              "      <td>0.231155</td>\n",
              "      <td>0.234132</td>\n",
              "      <td>0.237569</td>\n",
              "      <td>...</td>\n",
              "      <td>0.231640</td>\n",
              "      <td>0.229834</td>\n",
              "      <td>0.225209</td>\n",
              "      <td>0.220680</td>\n",
              "      <td>0.216207</td>\n",
              "      <td>0.209758</td>\n",
              "      <td>0.202757</td>\n",
              "      <td>0.193811</td>\n",
              "      <td>0.191605</td>\n",
              "      <td>Cristiano Ronaldo</td>\n",
              "    </tr>\n",
              "    <tr>\n",
              "      <th>1</th>\n",
              "      <td>0</td>\n",
              "      <td>0.783298</td>\n",
              "      <td>0.795809</td>\n",
              "      <td>0.839307</td>\n",
              "      <td>0.874686</td>\n",
              "      <td>0.900658</td>\n",
              "      <td>0.895228</td>\n",
              "      <td>0.884053</td>\n",
              "      <td>0.867286</td>\n",
              "      <td>0.859815</td>\n",
              "      <td>...</td>\n",
              "      <td>0.694092</td>\n",
              "      <td>0.694005</td>\n",
              "      <td>0.693182</td>\n",
              "      <td>0.691263</td>\n",
              "      <td>0.688217</td>\n",
              "      <td>0.687464</td>\n",
              "      <td>0.687354</td>\n",
              "      <td>0.687243</td>\n",
              "      <td>0.687211</td>\n",
              "      <td>Dwayne Johnson</td>\n",
              "    </tr>\n",
              "    <tr>\n",
              "      <th>2</th>\n",
              "      <td>5</td>\n",
              "      <td>0.195254</td>\n",
              "      <td>0.195254</td>\n",
              "      <td>0.195254</td>\n",
              "      <td>0.195254</td>\n",
              "      <td>0.195254</td>\n",
              "      <td>0.195254</td>\n",
              "      <td>0.195254</td>\n",
              "      <td>0.195254</td>\n",
              "      <td>0.195254</td>\n",
              "      <td>...</td>\n",
              "      <td>0.792425</td>\n",
              "      <td>0.792425</td>\n",
              "      <td>0.792958</td>\n",
              "      <td>0.794988</td>\n",
              "      <td>0.796347</td>\n",
              "      <td>0.796347</td>\n",
              "      <td>0.792307</td>\n",
              "      <td>0.782158</td>\n",
              "      <td>0.781469</td>\n",
              "      <td>Cristiano Ronaldo</td>\n",
              "    </tr>\n",
              "    <tr>\n",
              "      <th>3</th>\n",
              "      <td>3</td>\n",
              "      <td>1.000000</td>\n",
              "      <td>1.000000</td>\n",
              "      <td>1.000000</td>\n",
              "      <td>1.000000</td>\n",
              "      <td>1.000000</td>\n",
              "      <td>1.000000</td>\n",
              "      <td>1.000000</td>\n",
              "      <td>1.000000</td>\n",
              "      <td>1.000000</td>\n",
              "      <td>...</td>\n",
              "      <td>1.000000</td>\n",
              "      <td>1.000000</td>\n",
              "      <td>1.000000</td>\n",
              "      <td>1.000000</td>\n",
              "      <td>1.000000</td>\n",
              "      <td>1.000000</td>\n",
              "      <td>1.000000</td>\n",
              "      <td>1.000000</td>\n",
              "      <td>1.000000</td>\n",
              "      <td>Dwayne Johnson</td>\n",
              "    </tr>\n",
              "    <tr>\n",
              "      <th>4</th>\n",
              "      <td>42</td>\n",
              "      <td>0.492869</td>\n",
              "      <td>0.492869</td>\n",
              "      <td>0.492869</td>\n",
              "      <td>0.492869</td>\n",
              "      <td>0.492869</td>\n",
              "      <td>0.492869</td>\n",
              "      <td>0.492869</td>\n",
              "      <td>0.492869</td>\n",
              "      <td>0.492869</td>\n",
              "      <td>...</td>\n",
              "      <td>0.502684</td>\n",
              "      <td>0.503098</td>\n",
              "      <td>0.505395</td>\n",
              "      <td>0.506605</td>\n",
              "      <td>0.506605</td>\n",
              "      <td>0.506605</td>\n",
              "      <td>0.506605</td>\n",
              "      <td>0.506605</td>\n",
              "      <td>0.506605</td>\n",
              "      <td>Dwayne Johnson</td>\n",
              "    </tr>\n",
              "  </tbody>\n",
              "</table>\n",
              "<p>5 rows × 262146 columns</p>\n",
              "</div>\n",
              "      <button class=\"colab-df-convert\" onclick=\"convertToInteractive('df-50675ab6-9d10-40e9-b140-5bf93ac113c1')\"\n",
              "              title=\"Convert this dataframe to an interactive table.\"\n",
              "              style=\"display:none;\">\n",
              "        \n",
              "  <svg xmlns=\"http://www.w3.org/2000/svg\" height=\"24px\"viewBox=\"0 0 24 24\"\n",
              "       width=\"24px\">\n",
              "    <path d=\"M0 0h24v24H0V0z\" fill=\"none\"/>\n",
              "    <path d=\"M18.56 5.44l.94 2.06.94-2.06 2.06-.94-2.06-.94-.94-2.06-.94 2.06-2.06.94zm-11 1L8.5 8.5l.94-2.06 2.06-.94-2.06-.94L8.5 2.5l-.94 2.06-2.06.94zm10 10l.94 2.06.94-2.06 2.06-.94-2.06-.94-.94-2.06-.94 2.06-2.06.94z\"/><path d=\"M17.41 7.96l-1.37-1.37c-.4-.4-.92-.59-1.43-.59-.52 0-1.04.2-1.43.59L10.3 9.45l-7.72 7.72c-.78.78-.78 2.05 0 2.83L4 21.41c.39.39.9.59 1.41.59.51 0 1.02-.2 1.41-.59l7.78-7.78 2.81-2.81c.8-.78.8-2.07 0-2.86zM5.41 20L4 18.59l7.72-7.72 1.47 1.35L5.41 20z\"/>\n",
              "  </svg>\n",
              "      </button>\n",
              "      \n",
              "  <style>\n",
              "    .colab-df-container {\n",
              "      display:flex;\n",
              "      flex-wrap:wrap;\n",
              "      gap: 12px;\n",
              "    }\n",
              "\n",
              "    .colab-df-convert {\n",
              "      background-color: #E8F0FE;\n",
              "      border: none;\n",
              "      border-radius: 50%;\n",
              "      cursor: pointer;\n",
              "      display: none;\n",
              "      fill: #1967D2;\n",
              "      height: 32px;\n",
              "      padding: 0 0 0 0;\n",
              "      width: 32px;\n",
              "    }\n",
              "\n",
              "    .colab-df-convert:hover {\n",
              "      background-color: #E2EBFA;\n",
              "      box-shadow: 0px 1px 2px rgba(60, 64, 67, 0.3), 0px 1px 3px 1px rgba(60, 64, 67, 0.15);\n",
              "      fill: #174EA6;\n",
              "    }\n",
              "\n",
              "    [theme=dark] .colab-df-convert {\n",
              "      background-color: #3B4455;\n",
              "      fill: #D2E3FC;\n",
              "    }\n",
              "\n",
              "    [theme=dark] .colab-df-convert:hover {\n",
              "      background-color: #434B5C;\n",
              "      box-shadow: 0px 1px 3px 1px rgba(0, 0, 0, 0.15);\n",
              "      filter: drop-shadow(0px 1px 2px rgba(0, 0, 0, 0.3));\n",
              "      fill: #FFFFFF;\n",
              "    }\n",
              "  </style>\n",
              "\n",
              "      <script>\n",
              "        const buttonEl =\n",
              "          document.querySelector('#df-50675ab6-9d10-40e9-b140-5bf93ac113c1 button.colab-df-convert');\n",
              "        buttonEl.style.display =\n",
              "          google.colab.kernel.accessAllowed ? 'block' : 'none';\n",
              "\n",
              "        async function convertToInteractive(key) {\n",
              "          const element = document.querySelector('#df-50675ab6-9d10-40e9-b140-5bf93ac113c1');\n",
              "          const dataTable =\n",
              "            await google.colab.kernel.invokeFunction('convertToInteractive',\n",
              "                                                     [key], {});\n",
              "          if (!dataTable) return;\n",
              "\n",
              "          const docLinkHtml = 'Like what you see? Visit the ' +\n",
              "            '<a target=\"_blank\" href=https://colab.research.google.com/notebooks/data_table.ipynb>data table notebook</a>'\n",
              "            + ' to learn more about interactive tables.';\n",
              "          element.innerHTML = '';\n",
              "          dataTable['output_type'] = 'display_data';\n",
              "          await google.colab.output.renderOutput(dataTable, element);\n",
              "          const docLink = document.createElement('div');\n",
              "          docLink.innerHTML = docLinkHtml;\n",
              "          element.appendChild(docLink);\n",
              "        }\n",
              "      </script>\n",
              "    </div>\n",
              "  </div>\n",
              "  "
            ]
          },
          "metadata": {},
          "execution_count": 38
        }
      ]
    },
    {
      "cell_type": "code",
      "source": [
        "df_index.drop(columns = [\"index\"],axis = 1,inplace=True)"
      ],
      "metadata": {
        "id": "qjqU8q4Fy-SK"
      },
      "execution_count": 39,
      "outputs": []
    },
    {
      "cell_type": "code",
      "source": [
        "x = df_index.values[:,:-1]"
      ],
      "metadata": {
        "id": "xQM3PwRrzBUK"
      },
      "execution_count": 40,
      "outputs": []
    },
    {
      "cell_type": "code",
      "source": [
        "y = df_index.values[:,-1]"
      ],
      "metadata": {
        "id": "g2ErWk12zCv7"
      },
      "execution_count": 41,
      "outputs": []
    },
    {
      "cell_type": "markdown",
      "source": [
        "train test split of dataset"
      ],
      "metadata": {
        "id": "KM1stMyMWJ0N"
      }
    },
    {
      "cell_type": "code",
      "source": [
        "from sklearn.model_selection import train_test_split\n",
        "x_train, x_test, y_train, y_test = train_test_split(x, y, test_size = 0.2, random_state = 0)"
      ],
      "metadata": {
        "id": "TeyGX44IzEF6"
      },
      "execution_count": 42,
      "outputs": []
    },
    {
      "cell_type": "code",
      "source": [
        "from sklearn import svm"
      ],
      "metadata": {
        "id": "kCibXfkszGCC"
      },
      "execution_count": 43,
      "outputs": []
    },
    {
      "cell_type": "code",
      "source": [
        "model = svm.SVC()"
      ],
      "metadata": {
        "id": "2x3hx0XIzHhS"
      },
      "execution_count": 44,
      "outputs": []
    },
    {
      "cell_type": "markdown",
      "source": [
        "build svm model using training dataset"
      ],
      "metadata": {
        "id": "OcKMNrG-WMnk"
      }
    },
    {
      "cell_type": "code",
      "source": [
        "model.fit(x_train, y_train)"
      ],
      "metadata": {
        "colab": {
          "base_uri": "https://localhost:8080/"
        },
        "id": "Qp8i-0z-1lVJ",
        "outputId": "7a082b91-b773-4e35-95bd-dce5c471011e"
      },
      "execution_count": 45,
      "outputs": [
        {
          "output_type": "execute_result",
          "data": {
            "text/plain": [
              "SVC()"
            ]
          },
          "metadata": {},
          "execution_count": 45
        }
      ]
    },
    {
      "cell_type": "markdown",
      "source": [
        "prediction"
      ],
      "metadata": {
        "id": "VUakAibbWPys"
      }
    },
    {
      "cell_type": "code",
      "source": [
        "y_pred = model.predict(x_test)"
      ],
      "metadata": {
        "id": "hpeh7r_dzKYq"
      },
      "execution_count": 46,
      "outputs": []
    },
    {
      "cell_type": "code",
      "source": [
        "for i in (np.random.randint(0,6,4)):\n",
        "  predicted_images = (np.reshape(x_test[i], (512,512)).astype(np.float64))\n",
        "  plt.title(\"predicted label : {}\".format(y_pred[i]))\n",
        "  plt.imshow(predicted_images, interpolation=\"nearest\", cmap = \"gray\")\n",
        "  plt.show()"
      ],
      "metadata": {
        "id": "m9oFYFM1zMp6",
        "colab": {
          "base_uri": "https://localhost:8080/",
          "height": 1000
        },
        "outputId": "3b139d82-cd7a-4814-ca23-67e09dc0db28"
      },
      "execution_count": 49,
      "outputs": [
        {
          "output_type": "display_data",
          "data": {
            "text/plain": [
              "<Figure size 432x288 with 1 Axes>"
            ],
            "image/png": "[encoded data removed]"
          },
          "metadata": {
            "needs_background": "light"
          }
        },
        {
          "output_type": "display_data",
          "data": {
            "text/plain": [
              "<Figure size 432x288 with 1 Axes>"
            ],
            "image/png": "[encoded data removed]"
          },
          "metadata": {
            "needs_background": "light"
          }
        },
        {
          "output_type": "display_data",
          "data": {
            "text/plain": [
              "<Figure size 432x288 with 1 Axes>"
            ],
            "image/png": "[encoded data removed]"
          },
          "metadata": {
            "needs_background": "light"
          }
        },
        {
          "output_type": "display_data",
          "data": {
            "text/plain": [
              "<Figure size 432x288 with 1 Axes>"
            ],
            "image/png": "[encoded data removed]"
          },
          "metadata": {
            "needs_background": "light"
          }
        }
      ]
    },
    {
      "cell_type": "markdown",
      "source": [
        "evaluation metrics i) accuracy"
      ],
      "metadata": {
        "id": "ilYd3cuEWRV0"
      }
    },
    {
      "cell_type": "code",
      "source": [
        "from sklearn import metrics\n",
        "accuracy = metrics.accuracy_score(y_test,y_pred)\n",
        "accuracy"
      ],
      "metadata": {
        "id": "l8EzjNV0zOaC",
        "colab": {
          "base_uri": "https://localhost:8080/"
        },
        "outputId": "64bc054d-43d5-4e64-cad6-f8e6bb87921c"
      },
      "execution_count": 47,
      "outputs": [
        {
          "output_type": "execute_result",
          "data": {
            "text/plain": [
              "0.75"
            ]
          },
          "metadata": {},
          "execution_count": 47
        }
      ]
    },
    {
      "cell_type": "markdown",
      "source": [
        "evaluation metrics ii) Confusion matrix"
      ],
      "metadata": {
        "id": "viRZugflWU89"
      }
    },
    {
      "cell_type": "code",
      "source": [
        "from sklearn.metrics import confusion_matrix\n",
        "confusion_matrix(y_test,y_pred)"
      ],
      "metadata": {
        "id": "foL1X4BfzTGq",
        "colab": {
          "base_uri": "https://localhost:8080/"
        },
        "outputId": "b6af1cec-39e7-45a9-9ac0-dc130936fd28"
      },
      "execution_count": 48,
      "outputs": [
        {
          "output_type": "execute_result",
          "data": {
            "text/plain": [
              "array([[15,  5],\n",
              "       [ 3,  9]])"
            ]
          },
          "metadata": {},
          "execution_count": 48
        }
      ]
    },
    {
      "cell_type": "code",
      "source": [],
      "metadata": {
        "id": "4fUuXwyt16TI"
      },
      "execution_count": null,
      "outputs": []
    }
  ]
}